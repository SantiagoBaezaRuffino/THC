{
  "nbformat": 4,
  "nbformat_minor": 0,
  "metadata": {
    "colab": {
      "provenance": [],
      "authorship_tag": "ABX9TyNzJxllwDoZemutoeEMvkpE",
      "include_colab_link": true
    },
    "kernelspec": {
      "name": "python3",
      "display_name": "Python 3"
    },
    "language_info": {
      "name": "python"
    }
  },
  "cells": [
    {
      "cell_type": "markdown",
      "metadata": {
        "id": "view-in-github",
        "colab_type": "text"
      },
      "source": [
        "<a href=\"https://colab.research.google.com/github/SantiagoBaezaRuffino/THC/blob/main/THC_BaezaRuffinoSantiago_EjercicoClase.ipynb\" target=\"_parent\"><img src=\"https://colab.research.google.com/assets/colab-badge.svg\" alt=\"Open In Colab\"/></a>"
      ]
    },
    {
      "cell_type": "markdown",
      "source": [
        "#**Ejemplo Clase**\n"
      ],
      "metadata": {
        "id": "WezJHWimtKxO"
      }
    },
    {
      "cell_type": "code",
      "source": [
        "thisdict = {\n",
        "    \"brand\":\"Ford\",\n",
        "    \"model\": \"Mustang\",\n",
        "    \"year\" : 1964, #funciones hash, son funciones inyectivas\n",
        "    \"year\" : 2020 #al ser una función inyectiva te imprime el último compilado\n",
        "}\n",
        "print(thisdict)"
      ],
      "metadata": {
        "colab": {
          "base_uri": "https://localhost:8080/"
        },
        "id": "FJNUZLvmtsGX",
        "outputId": "07623d7d-fe03-44d6-d40e-7ed57e8d08a4"
      },
      "execution_count": null,
      "outputs": [
        {
          "output_type": "stream",
          "name": "stdout",
          "text": [
            "{'brand': 'Ford', 'model': 'Mustang', 'year': 2020}\n"
          ]
        }
      ]
    },
    {
      "cell_type": "code",
      "source": [
        "diccionario = {\"python\": 2.7, \"zope\": 2.13, \"plone\": 5.7}\n",
        "\n",
        "l=[]\n",
        "for i in diccionario.keys():\n",
        "  l.append(diccionario[i]) #al meter l.append lo que hace es agregar a la lista, en este caso l\n",
        "\n",
        "print(l)"
      ],
      "metadata": {
        "colab": {
          "base_uri": "https://localhost:8080/"
        },
        "id": "2bSVo82nxA3X",
        "outputId": "92150704-b469-43de-b78c-3e6ac4e1a60b"
      },
      "execution_count": null,
      "outputs": [
        {
          "output_type": "stream",
          "name": "stdout",
          "text": [
            "[2.7, 2.13, 5.7]\n"
          ]
        }
      ]
    },
    {
      "cell_type": "code",
      "source": [
        "# Exportando la bibliotecas \"pandas:bijblioteca especializada para el analisis de datos\"\n",
        "import pandas as pd\n",
        "\n",
        "# Crear un diccionario\n",
        "datos = {\n",
        "    \"Nombre\": [\"Juan\", \"María\", \"Pedro\", \"Luisa\"],\n",
        "    \"Edad\": [25,28,22,30],\n",
        "    \"Ciudad\": [\"Madrid\", \"Barcelona\", \"Valencia\", \"Sevilla\"]\n",
        "}\n",
        "\n",
        "# Crear un DataFrame a partir del diccionario\n",
        "dataframe = pd.DataFrame(datos)\n",
        "\n",
        "#Mostrar el DataFrame\n",
        "print(dataframe)"
      ],
      "metadata": {
        "colab": {
          "base_uri": "https://localhost:8080/"
        },
        "id": "6prfsDT-x__P",
        "outputId": "8e0797c6-fd0b-493a-c5da-5f7a184cb726"
      },
      "execution_count": null,
      "outputs": [
        {
          "output_type": "stream",
          "name": "stdout",
          "text": [
            "  Nombre  Edad     Ciudad\n",
            "0   Juan    25     Madrid\n",
            "1  María    28  Barcelona\n",
            "2  Pedro    22   Valencia\n",
            "3  Luisa    30    Sevilla\n"
          ]
        }
      ]
    },
    {
      "cell_type": "code",
      "source": [
        "# Crear una tupla\n",
        "mi_tupla = (1, 2, 3, \"Hola\", True)\n",
        "print(mi_tupla)"
      ],
      "metadata": {
        "colab": {
          "base_uri": "https://localhost:8080/"
        },
        "id": "zrVtaIEezcnZ",
        "outputId": "72fc5a84-318a-4233-c015-e9474bd52a2d"
      },
      "execution_count": null,
      "outputs": [
        {
          "output_type": "stream",
          "name": "stdout",
          "text": [
            "(1, 2, 3, 'Hola', True)\n"
          ]
        }
      ]
    },
    {
      "cell_type": "code",
      "source": [
        "frutas = (\"manzana\", \"uvas\", \"mangos\", \"platano\")\n",
        "for i in frutas:\n",
        "  print(frutas)"
      ],
      "metadata": {
        "colab": {
          "base_uri": "https://localhost:8080/"
        },
        "id": "XELxB33ez7UG",
        "outputId": "a49eb648-f687-4a43-bf80-30e1ea62689a"
      },
      "execution_count": null,
      "outputs": [
        {
          "output_type": "stream",
          "name": "stdout",
          "text": [
            "('manzana', 'uvas', 'mangos', 'platano')\n",
            "('manzana', 'uvas', 'mangos', 'platano')\n",
            "('manzana', 'uvas', 'mangos', 'platano')\n",
            "('manzana', 'uvas', 'mangos', 'platano')\n"
          ]
        }
      ]
    },
    {
      "cell_type": "code",
      "source": [
        "if \"manzana\" in frutas:\n",
        "  print(\"Si, la manzana está en la tupla\")"
      ],
      "metadata": {
        "colab": {
          "base_uri": "https://localhost:8080/"
        },
        "id": "teJtlZdd1U83",
        "outputId": "9e93fb70-815f-4a43-ad73-80a9bf5a79aa"
      },
      "execution_count": null,
      "outputs": [
        {
          "output_type": "stream",
          "name": "stdout",
          "text": [
            "Si, la manzana está en la tupla\n"
          ]
        }
      ]
    },
    {
      "cell_type": "code",
      "source": [
        "def mi_funcion():\n",
        "  print(\"Hola, te saludo desde la función\")\n"
      ],
      "metadata": {
        "id": "hq1FUwS82W6P"
      },
      "execution_count": null,
      "outputs": []
    },
    {
      "cell_type": "code",
      "source": [
        "mi_funcion()"
      ],
      "metadata": {
        "colab": {
          "base_uri": "https://localhost:8080/"
        },
        "id": "-s1Bx69H28q5",
        "outputId": "6954d126-b425-434f-d5f8-b22e275369de"
      },
      "execution_count": null,
      "outputs": [
        {
          "output_type": "stream",
          "name": "stdout",
          "text": [
            "Hola, te saludo desde la función\n"
          ]
        }
      ]
    },
    {
      "cell_type": "code",
      "source": [
        "def mi_funcion_nueva(fname):\n",
        "  print(\"Hola \"+fname +\" te saludo desde la función\" )\n",
        "\n",
        "mi_funcion_nueva(\"Santiago\")"
      ],
      "metadata": {
        "colab": {
          "base_uri": "https://localhost:8080/"
        },
        "id": "YlptW39A3J1P",
        "outputId": "9ed52905-f63a-48c9-8a74-a4198aee47bb"
      },
      "execution_count": null,
      "outputs": [
        {
          "output_type": "stream",
          "name": "stdout",
          "text": [
            "Hola Santiago te saludo desde la función\n"
          ]
        }
      ]
    },
    {
      "cell_type": "code",
      "source": [
        "def Nombre(fname,lname):\n",
        "  print(\"Hola \"+fname+ \" \" + lname + \" te saludo desde la función\")\n",
        "\n",
        "Nombre(\"Iván\", \"CC\")"
      ],
      "metadata": {
        "colab": {
          "base_uri": "https://localhost:8080/"
        },
        "id": "xrMbVBYj4GmO",
        "outputId": "0b3bb0ac-bd47-45f8-83c1-1d0b040e8c98"
      },
      "execution_count": null,
      "outputs": [
        {
          "output_type": "stream",
          "name": "stdout",
          "text": [
            "Hola Iván CC te saludo desde la función\n"
          ]
        }
      ]
    },
    {
      "cell_type": "code",
      "source": [
        "def mi_funcion(*kids):\n",
        "  print(\"El niño menor es \" + kids[2])\n",
        "\n",
        "mi_funcion(\"Emil\", \"Tobias\", \"Linus\", \"Wilson\")"
      ],
      "metadata": {
        "colab": {
          "base_uri": "https://localhost:8080/"
        },
        "id": "kquLCK5F4uX7",
        "outputId": "6d986413-db33-4367-99bf-2a3ec53d0536"
      },
      "execution_count": null,
      "outputs": [
        {
          "output_type": "stream",
          "name": "stdout",
          "text": [
            "El niño menor es Linus\n"
          ]
        }
      ]
    },
    {
      "cell_type": "code",
      "source": [
        "def mi_funcion(niño3, niño2, niño1):\n",
        "  print(\"El niño menor es \" + niño3)\n",
        "\n",
        "mi_funcion(niño1 = \"Emil\", niño2= \"Tobias\", niño3= \"Vapython\")"
      ],
      "metadata": {
        "colab": {
          "base_uri": "https://localhost:8080/"
        },
        "id": "SJowtACF5hY6",
        "outputId": "8ae85a38-b6d7-4a23-b8ff-427a6618a33c"
      },
      "execution_count": null,
      "outputs": [
        {
          "output_type": "stream",
          "name": "stdout",
          "text": [
            "El niño menor es Vapython\n"
          ]
        }
      ]
    },
    {
      "cell_type": "markdown",
      "source": [
        "#**Ejercicio Clase**"
      ],
      "metadata": {
        "id": "gKu1gz9Z6--b"
      }
    },
    {
      "cell_type": "code",
      "source": [
        "A = [1, 3, 5, 7, 9]\n",
        "B = [0, 2, 4, 6, 8]\n",
        "def sum_v(A,B):\n",
        "  C = []\n",
        "  if len(A)!=len(B):\n",
        "    return\n",
        "  for i in range(len(A)):\n",
        "    C.append(A[i] + B[i])\n",
        "  print(C)\n",
        "sum_v(A,B)"
      ],
      "metadata": {
        "colab": {
          "base_uri": "https://localhost:8080/"
        },
        "id": "YeGouIgx7FSS",
        "outputId": "22e6f0f1-427e-43ca-9b87-1de024b444d2"
      },
      "execution_count": null,
      "outputs": [
        {
          "output_type": "stream",
          "name": "stdout",
          "text": [
            "[1, 5, 9, 13, 17]\n"
          ]
        }
      ]
    },
    {
      "cell_type": "code",
      "source": [
        "def sum_vec(A,B):\n",
        "  if len(A)==len(B):\n",
        "    n=len(A)\n",
        "    C=n*[0.0]\n",
        "    for i in range (n):\n",
        "      C[i]=A[i]+B[i]\n",
        "    print(C)\n",
        "  else:\n",
        "    print(NO)\n",
        "sum_vec(A,B)"
      ],
      "metadata": {
        "colab": {
          "base_uri": "https://localhost:8080/"
        },
        "id": "9tjmTMQqBPzr",
        "outputId": "a5645a8a-5d1b-4c30-8b43-473df0f713b4"
      },
      "execution_count": null,
      "outputs": [
        {
          "output_type": "stream",
          "name": "stdout",
          "text": [
            "[1, 5, 9, 13, 17]\n"
          ]
        }
      ]
    }
  ]
}